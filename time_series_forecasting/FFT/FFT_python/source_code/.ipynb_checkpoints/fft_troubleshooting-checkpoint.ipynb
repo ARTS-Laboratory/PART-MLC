{
 "cells": [
  {
   "cell_type": "code",
   "execution_count": 1,
   "metadata": {},
   "outputs": [
    {
     "name": "stdout",
     "output_type": "stream",
     "text": [
      "\f",
      "\n"
     ]
    }
   ],
   "source": [
    "# clear out the console and remove all variables present\n",
    "try:\n",
    "    from IPython import get_ipython\n",
    "    get_ipython().magic('clear')\n",
    "    get_ipython().magic('reset -f')\n",
    "except:\n",
    "    pass\n",
    "\n",
    "\n",
    "import pickle\n",
    "import partMLC as partMLC\n",
    "import numpy as np\n",
    "import matplotlib.pyplot as plt\n",
    "plt.close('all')\n",
    "import numpy as np\n",
    "from numpy import fft, math\n",
    "import warnings\n",
    "from partMLC import range_with_floats"
   ]
  },
  {
   "cell_type": "code",
   "execution_count": 2,
   "metadata": {},
   "outputs": [],
   "source": [
    "# data processing: same data for three models\n",
    "# data from MLP model\n",
    "\n",
    "data = np.loadtxt('../data/data_mlp_org.txt')\n",
    "X1 = data[:,1]\n",
    "Fs = 51200 #25000\n",
    "dt = 1/Fs\n",
    "t = np.arange(0,len(seq)*dt,dt)"
   ]
  },
  {
   "cell_type": "code",
   "execution_count": 14,
   "metadata": {},
   "outputs": [],
   "source": [
    "'''replacing pickle data with the same data used in mlp model'''\n",
    "data_pickle = np.loadtxt('../data/data_mlp_org.txt')\n",
    "acceleration = data_pickle[:,1]\n",
    "Fs = 51200 #25000\n",
    "dt = 1/Fs\n",
    "Ts = 1/Fs\n",
    "time = np.arange(0,len(acceleration)*dt-dt,dt)"
   ]
  },
  {
   "cell_type": "code",
   "execution_count": 23,
   "metadata": {},
   "outputs": [],
   "source": [
    "# 468530:533085\n",
    "data_pickle = pickle.load(open('../data/nonstationarity_data.pkl', 'rb'))\n",
    "Xt=data_pickle['time']\n",
    "strt_sample_init = np.isclose(Xt, -6.240230000000011046e-01,atol=0.00001)\n",
    "end_sample_init = np.isclose(Xt, 6.368159999999996046e-01,atol=0.00001) \n",
    "strt_sample = np.where(strt_sample_init)[0]\n",
    "end_sample = np.where(end_sample_init)[0]"
   ]
  },
  {
   "cell_type": "code",
   "execution_count": 24,
   "metadata": {},
   "outputs": [
    {
     "data": {
      "text/plain": [
       "array([-64555], dtype=int64)"
      ]
     },
     "execution_count": 24,
     "metadata": {},
     "output_type": "execute_result"
    }
   ],
   "source": [
    "6.368159999999996046e-01- 6.367969999999996134e-01\n",
    "166,956\n",
    "strt_sample-end_sample"
   ]
  },
  {
   "cell_type": "code",
   "execution_count": 5,
   "metadata": {},
   "outputs": [],
   "source": [
    "#%% Load data\n",
    "data_pickle = pickle.load(open('../data/nonstationarity_data.pkl', 'rb'))\n",
    "X1=data_pickle['acceleration']\n",
    "dt=1.9531228885135136e-05\n",
    "\n",
    "# User defined parameters\n",
    "# freq_list = [20,60,70,80,100,120,140,150,160,170,180,200,220,240,-20,-60,-70,-80,-100,-120,-140,-150,-160,-170,-180,-200,-220,-240]# sorted  frequencies with more impact on the original FFT\n",
    "forcast_horizon_steps= 5120 # prediction length # here 1s=51200 samples/sec\n",
    "\n",
    "# Input length should capture the minimum frequency. \n",
    "xx_length = 29000\n",
    "xx = X1[0:xx_length]"
   ]
  },
  {
   "cell_type": "code",
   "execution_count": 6,
   "metadata": {},
   "outputs": [
    {
     "name": "stderr",
     "output_type": "stream",
     "text": [
      "<ipython-input-6-6970e1f82280>:10: UserWarning: No frequency list has been provided. Running for all the frequencies.\n",
      "  warnings.warn(\"No frequency list has been provided. Running for all the frequencies.\")\n"
     ]
    }
   ],
   "source": [
    "# def fft_prediction(X,dt,forcast_horizon_steps,freq_list=[],returnVector=True):\n",
    "X = xx\n",
    "freq_list = []\n",
    "returnVector = True\n",
    "Y = np.array([*range_with_floats(0,len(X)*dt, dt)])[0:len(X)]\n",
    "# Ts=(Y[-1]-Y[0])/Y.shape[0]\n",
    "Ts = dt\n",
    "forcast_horizon = math.ceil(forcast_horizon_steps*Ts)\n",
    "if freq_list==[]:\n",
    "    warnings.warn(\"No frequency list has been provided. Running for all the frequencies.\")\n",
    "\n",
    "x_train_data = X\n",
    "# Processing frequency:\n",
    "n = x_train_data.size\n",
    "t1 = np.arange(0, n)\n",
    "p = np.polyfit(t1, x_train_data, 1) # find the trend"
   ]
  },
  {
   "cell_type": "code",
   "execution_count": 7,
   "metadata": {},
   "outputs": [
    {
     "data": {
      "text/plain": [
       "array([-1.23134160e-08,  1.77591902e-04])"
      ]
     },
     "execution_count": 7,
     "metadata": {},
     "output_type": "execute_result"
    }
   ],
   "source": [
    "p"
   ]
  },
  {
   "cell_type": "code",
   "execution_count": 16,
   "metadata": {},
   "outputs": [
    {
     "name": "stderr",
     "output_type": "stream",
     "text": [
      "<ipython-input-16-9bc70bb9ba9a>:10: UserWarning: No frequency list has been provided. Running for all the frequencies.\n",
      "  warnings.warn(\"No frequency list has been provided. Running for all the frequencies.\")\n"
     ]
    }
   ],
   "source": [
    "# def fft_prediction(X,dt,forcast_horizon_steps,freq_list=[],returnVector=True):\n",
    "X = xx\n",
    "freq_list = []\n",
    "returnVector = True\n",
    "Y = np.array([*range_with_floats(0,len(X)*dt, dt)])[0:len(X)]\n",
    "# Ts=(Y[-1]-Y[0])/Y.shape[0]\n",
    "Ts = dt\n",
    "forcast_horizon = math.ceil(forcast_horizon_steps*Ts)\n",
    "if freq_list==[]:\n",
    "    warnings.warn(\"No frequency list has been provided. Running for all the frequencies.\")\n",
    "\n",
    "x_train_data = X\n",
    "# Processing frequency:\n",
    "n = x_train_data.size\n",
    "t1 = np.arange(0, n)\n",
    "p = np.polyfit(t1, x_train_data, 1) # find the trend\n",
    "x_notrend = x_train_data - p[0] * t1  # detrended x\n",
    "if len(x_notrend)<int(1/Ts):\n",
    "    fft_sig = np.hstack((x_notrend,(np.full([int(1/Ts)-len(x_notrend)], np.nan))))\n",
    "else:\n",
    "    fft_sig = x_notrend[0:int(1/Ts)]\n",
    "x_freqdom = fft.fft(fft_sig)  # detrended x in frequency domain\n",
    "f = fft.fftfreq(len(fft_sig), d=Ts)  # frequencies\n",
    "\n",
    "fq_idx=[]\n",
    "if freq_list==[]:\n",
    "    freq_list = f #If no frequencies provided, it should return an error. Or, use all frequences and return a warning.\n",
    "for fq in freq_list:\n",
    "    if len(np.where(np.isclose(f, fq,atol=0.1))[0])==0: # if not able to find any frequencies from freq_list don't append\n",
    "        pass\n",
    "    else:\n",
    "        fq_idx.append(int(np.where(np.isclose(f, fq,atol=0.1))[0]))\n",
    "\n",
    "\n",
    "n_predict = forcast_horizon_steps # how long want to predict signal\n",
    "t1 = np.arange(0, n + n_predict)\n",
    "# t1 = np.arange(0, n)\n",
    "restored_sig = np.zeros(t1.size)\n",
    "\n",
    "\n",
    "# if returnVector:\n",
    "#     return signal_pred[len(X):]\n",
    "# else:\n",
    "#     return signal_pred[-1]"
   ]
  },
  {
   "cell_type": "code",
   "execution_count": 17,
   "metadata": {},
   "outputs": [],
   "source": [
    "restored_sig=0\n",
    "for j in fq_idx:\n",
    "    ampli = np.absolute(x_freqdom[j]) /n  # find amplitude\n",
    "    phase = np.angle(x_freqdom[j])  # find phase\n",
    "#     restored_sig += ampli * np.cos(2 * np.pi * f[j]  * t1 + phase) # restored signal with respect to phase,amplitude and frequencies\n",
    "\n",
    "    restored_sig += ampli * np.cos(2 * np.pi * (f[j]*Ts) * t1 + phase) # restored signal with respect to phase,amplitude and frequencies\n",
    "\n",
    "trend=p[0]\n",
    "signal_pred = restored_sig +trend * t1"
   ]
  },
  {
   "cell_type": "code",
   "execution_count": 21,
   "metadata": {},
   "outputs": [
    {
     "data": {
      "image/png": "[encoded data removed]",
      "text/plain": [
       "<Figure size 432x288 with 1 Axes>"
      ]
     },
     "metadata": {
      "needs_background": "light"
     },
     "output_type": "display_data"
    },
    {
     "data": {
      "image/png": "[encoded data removed]",
      "text/plain": [
       "<Figure size 432x288 with 1 Axes>"
      ]
     },
     "metadata": {
      "needs_background": "light"
     },
     "output_type": "display_data"
    },
    {
     "data": {
      "image/png": "[encoded data removed]",
      "text/plain": [
       "<Figure size 432x288 with 1 Axes>"
      ]
     },
     "metadata": {
      "needs_background": "light"
     },
     "output_type": "display_data"
    }
   ],
   "source": [
    "#%% plot the results using all freqs\n",
    "# y1_withoutFreq = prediction_signal=partMLC.fft_prediction(xx,dt,forcast_horizon_steps,returnVector=True)# Returns the vector of data up to forcast_horizon_steps if returnVector=True\n",
    "\n",
    "# plot the code\n",
    "# forcast = np.hstack((np.full([xx_length], np.nan),y1_withoutFreq))\n",
    "\n",
    "\n",
    "plt.figure()\n",
    "plt.title('Without Freq')\n",
    "# plt.plot(X1[0:60120],color='gray',label='truth')\n",
    "# plt.plot(signal_pred[0:50000],':',label='forcast')\n",
    "plt.plot(signal_pred,':',label='forcast')\n",
    "plt.plot(xx,'--',label='training data')\n",
    "# plt.xlabel('time (data points)')\n",
    "plt.ylabel('acceleration (g)')\n",
    "plt.xlim([45000,70000])\n",
    "plt.legend()\n",
    "plt.tight_layout()\n",
    "\n",
    "plt.figure()\n",
    "plt.title('Without Freq')\n",
    "plt.plot(X1[0:55120],color='gray',label='truth')\n",
    "# plt.plot(signal_pred[0:50000],':',label='forcast')\n",
    "plt.plot(signal_pred,':',label='forcast')\n",
    "# plt.plot(xx,'--',label='training data')\n",
    "# plt.xlabel('time (data points)')\n",
    "plt.ylabel('acceleration (g)')\n",
    "plt.xlim([45000,70000])\n",
    "plt.legend()\n",
    "plt.tight_layout()\n",
    "\n",
    "\n",
    "plt.figure()\n",
    "plt.title('Without Freq')\n",
    "# plt.plot(X[0:50000],color='gray',label='truth')\n",
    "forcast = np.hstack((np.full([xx_length], np.nan),signal_pred[50000:]))\n",
    "plt.plot(signal_pred,':',label='forcast')\n",
    "# plt.plot(xx,'--',label='training data')\n",
    "# plt.xlabel('time (data points)')\n",
    "plt.ylabel('acceleration (g)')\n",
    "plt.xlim([45000,70000])\n",
    "plt.legend()\n",
    "plt.tight_layout()"
   ]
  },
  {
   "cell_type": "code",
   "execution_count": 23,
   "metadata": {},
   "outputs": [
    {
     "data": {
      "text/plain": [
       "array([nan, nan, nan, ..., nan, nan, nan])"
      ]
     },
     "execution_count": 23,
     "metadata": {},
     "output_type": "execute_result"
    }
   ],
   "source": [
    "(signal_pred)"
   ]
  },
  {
   "cell_type": "code",
   "execution_count": 12,
   "metadata": {},
   "outputs": [
    {
     "data": {
      "text/plain": [
       "51200"
      ]
     },
     "execution_count": 12,
     "metadata": {},
     "output_type": "execute_result"
    }
   ],
   "source": [
    "int(1/Ts)"
   ]
  },
  {
   "cell_type": "code",
   "execution_count": null,
   "metadata": {},
   "outputs": [],
   "source": []
  }
 ],
 "metadata": {
  "kernelspec": {
   "display_name": "Python 3",
   "language": "python",
   "name": "python3"
  },
  "language_info": {
   "codemirror_mode": {
    "name": "ipython",
    "version": 3
   },
   "file_extension": ".py",
   "mimetype": "text/x-python",
   "name": "python",
   "nbconvert_exporter": "python",
   "pygments_lexer": "ipython3",
   "version": "3.8.3"
  }
 },
 "nbformat": 4,
 "nbformat_minor": 4
}
